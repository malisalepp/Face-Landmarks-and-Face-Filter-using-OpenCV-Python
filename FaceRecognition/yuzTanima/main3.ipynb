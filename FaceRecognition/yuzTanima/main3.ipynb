{
 "cells": [
  {
   "cell_type": "code",
   "execution_count": 13,
   "id": "a0c5b784",
   "metadata": {},
   "outputs": [],
   "source": [
    "# Import OpenCV2,dlib and numpy for image processing\n",
    "import cv2\n",
    "import dlib\n",
    "import numpy as np\n",
    "import matplotlib.pyplot as plt"
   ]
  },
  {
   "cell_type": "code",
   "execution_count": 14,
   "id": "19923161",
   "metadata": {},
   "outputs": [],
   "source": [
    "detector = dlib.get_frontal_face_detector()"
   ]
  },
  {
   "cell_type": "code",
   "execution_count": 15,
   "id": "b7804543",
   "metadata": {},
   "outputs": [],
   "source": [
    "predictor = dlib.shape_predictor(\"shape_predictor_68_face_landmarks.dat\")"
   ]
  },
  {
   "cell_type": "code",
   "execution_count": 16,
   "id": "6ee40e04",
   "metadata": {},
   "outputs": [],
   "source": [
    "def createBox(img,points,scale=5,masked = True,cropped = False):\n",
    "    if masked:\n",
    "        mask = np.zeros_like(img)\n",
    "        mask =cv2.fillPoly(mask,[points],(255,255,255))\n",
    "        img = cv2.bitwise_and(img,mask)\n",
    "        #cv2.imshow('Mask',mask)\n",
    "    if cropped:\n",
    "        bbox = cv2.boundingRect(points)\n",
    "        x,y,w,h = bbox\n",
    "        imgCrop = img[y:y+h,x:x+w]\n",
    "        imgCrop = cv2.resize(imgCrop,(0,0),None,scale,scale)\n",
    "        return imgCrop\n",
    "    else:\n",
    "        return mask"
   ]
  },
  {
   "cell_type": "code",
   "execution_count": 17,
   "id": "5c311507",
   "metadata": {},
   "outputs": [],
   "source": [
    "# Görüntüyü yükleme\n",
    "img = cv2.imread('photos/selenaGomez.jpeg')"
   ]
  },
  {
   "cell_type": "code",
   "execution_count": 18,
   "id": "6c82bd6d",
   "metadata": {},
   "outputs": [],
   "source": [
    "img = cv2.resize(img,(0,0),None,0.5,0.5)"
   ]
  },
  {
   "cell_type": "code",
   "execution_count": 19,
   "id": "fe1a5329",
   "metadata": {},
   "outputs": [],
   "source": [
    "imgOriginal = img.copy()"
   ]
  },
  {
   "cell_type": "code",
   "execution_count": 20,
   "id": "9d64550f",
   "metadata": {},
   "outputs": [],
   "source": [
    "imgGray = cv2.cvtColor(img, cv2.COLOR_BGR2RGB)"
   ]
  },
  {
   "cell_type": "code",
   "execution_count": 21,
   "id": "333ebbb2",
   "metadata": {},
   "outputs": [],
   "source": [
    "faces = detector(imgGray)"
   ]
  },
  {
   "cell_type": "code",
   "execution_count": 22,
   "id": "001e8250",
   "metadata": {},
   "outputs": [],
   "source": [
    "for face in faces:\n",
    "    x1, y1 = face.left(), face.top()\n",
    "    x2, y2 = face.right(), face.bottom()  # Yükseklik için bottom() kullanılıyor\n",
    "    #imgOriginal = cv2.rectangle(img, (x1, y1), (x2, y2), (0, 255, 0), 2)\n",
    "    landmarks = predictor(imgGray,face)\n",
    "    myPoints = []\n",
    "    for n in range(68):\n",
    "        x = landmarks.part(n).x\n",
    "        y = landmarks.part(n).y\n",
    "        myPoints.append([x,y])\n",
    "        #cv2.circle(imgOriginal,(x,y),2,(50,50,255),cv2.FILLED)\n",
    "        #cv2.putText(imgOriginal,str(n),(x,y-10),cv2.FONT_HERSHEY_COMPLEX_SMALL,0.1,(0,0,255),1)"
   ]
  },
  {
   "cell_type": "code",
   "execution_count": 23,
   "id": "45c8e325",
   "metadata": {},
   "outputs": [],
   "source": [
    "myPoints = np.array(myPoints)\n",
    "#imgLeftEye = createBox(img,myPoints[36:42])"
   ]
  },
  {
   "cell_type": "code",
   "execution_count": 24,
   "id": "ba0bfa0a",
   "metadata": {},
   "outputs": [],
   "source": [
    "imgLips = createBox(img,myPoints[48:61],3,masked=True,cropped=False) "
   ]
  },
  {
   "cell_type": "code",
   "execution_count": 25,
   "id": "560a4ee4",
   "metadata": {},
   "outputs": [
    {
     "data": {
      "text/plain": [
       "-1"
      ]
     },
     "execution_count": 25,
     "metadata": {},
     "output_type": "execute_result"
    }
   ],
   "source": [
    "imgColorLips = np.zeros_like(imgLips)\n",
    "imgColorLips[:] = 153,0,157\n",
    "imgColorLips = cv2.bitwise_and(imgLips,imgColorLips)\n",
    "imgColorLips = cv2.GaussianBlur(imgColorLips,(7,7),10)\n",
    "imgOriginal = cv2.cvtColor(imgOriginal,cv2.COLOR_BGR2GRAY)\n",
    "imgOriginal = cv2.cvtColor(imgOriginal,cv2.COLOR_GRAY2BGR)                           \n",
    "imgColorLips = cv2.addWeighted(imgOriginal,1,imgColorLips,0.4,0)\n",
    "cv2.imshow('Colored',imgColorLips)\n",
    "cv2.waitKey(0)"
   ]
  },
  {
   "cell_type": "code",
   "execution_count": 26,
   "id": "a8fda85a",
   "metadata": {},
   "outputs": [],
   "source": [
    "imgColorLips[:] = 153,0,157\n"
   ]
  },
  {
   "cell_type": "code",
   "execution_count": null,
   "id": "f019e54c",
   "metadata": {},
   "outputs": [],
   "source": [
    "imgColorLips = cv2.bitwise_and(imgLips,imgColorLips)\n"
   ]
  },
  {
   "cell_type": "code",
   "execution_count": null,
   "id": "dc07788f",
   "metadata": {},
   "outputs": [],
   "source": [
    "imgColorLips = cv2.GaussianBlur(imgColorLips,(7,7),10)\n"
   ]
  },
  {
   "cell_type": "code",
   "execution_count": null,
   "id": "00c43495",
   "metadata": {},
   "outputs": [],
   "source": [
    "imgOriginal = cv2.cvtColor(imgOriginal,cv2.COLOR_BGR2GRAY)\n"
   ]
  },
  {
   "cell_type": "code",
   "execution_count": null,
   "id": "28e2f0d2",
   "metadata": {},
   "outputs": [],
   "source": [
    "imgOriginal = cv2.cvtColor(imgOriginal,cv2.COLOR_GRAY2BGR)                           \n"
   ]
  },
  {
   "cell_type": "code",
   "execution_count": null,
   "id": "7165904f",
   "metadata": {},
   "outputs": [],
   "source": [
    "imgColorLips = cv2.addWeighted(imgOriginal,1,imgColorLips,0.4,0)\n"
   ]
  },
  {
   "cell_type": "code",
   "execution_count": null,
   "id": "30ea464e",
   "metadata": {},
   "outputs": [],
   "source": [
    "cv2.imshow('Colored',imgColorLips)\n"
   ]
  },
  {
   "cell_type": "code",
   "execution_count": null,
   "id": "72cea25b",
   "metadata": {},
   "outputs": [],
   "source": [
    "cv2.waitKey(0)"
   ]
  },
  {
   "cell_type": "code",
   "execution_count": null,
   "id": "88011baf",
   "metadata": {},
   "outputs": [],
   "source": [
    "cv2.imshow('lips',imgLips)"
   ]
  },
  {
   "cell_type": "code",
   "execution_count": null,
   "id": "bf072c68",
   "metadata": {},
   "outputs": [],
   "source": [
    "print(myPoints)"
   ]
  }
 ],
 "metadata": {
  "kernelspec": {
   "display_name": "Python 3 (ipykernel)",
   "language": "python",
   "name": "python3"
  },
  "language_info": {
   "codemirror_mode": {
    "name": "ipython",
    "version": 3
   },
   "file_extension": ".py",
   "mimetype": "text/x-python",
   "name": "python",
   "nbconvert_exporter": "python",
   "pygments_lexer": "ipython3",
   "version": "3.11.5"
  }
 },
 "nbformat": 4,
 "nbformat_minor": 5
}
