{
 "cells": [
  {
   "cell_type": "code",
   "execution_count": 1,
   "id": "86f44e09",
   "metadata": {},
   "outputs": [],
   "source": [
    "# Import OpenCV2,dlib and numpy for image processing\n",
    "import cv2\n",
    "import dlib\n",
    "import numpy as np\n",
    "import matplotlib.pyplot as plt"
   ]
  },
  {
   "cell_type": "code",
   "execution_count": 2,
   "id": "13847c11",
   "metadata": {},
   "outputs": [],
   "source": [
    "detector = dlib.get_frontal_face_detector()"
   ]
  },
  {
   "cell_type": "code",
   "execution_count": 3,
   "id": "74efe39f",
   "metadata": {},
   "outputs": [],
   "source": [
    "predictor = dlib.shape_predictor(\"shape_predictor_68_face_landmarks.dat\")"
   ]
  },
  {
   "cell_type": "code",
   "execution_count": 4,
   "id": "f693fcb0",
   "metadata": {},
   "outputs": [],
   "source": [
    "def createBox(img,points,scale=5,masked = True,cropped = False):\n",
    "    if masked:\n",
    "        mask = np.zeros_like(img)\n",
    "        mask =cv2.fillPoly(mask,[points],(255,255,255))\n",
    "        img = cv2.bitwise_and(img,mask)\n",
    "        #cv2.imshow('Mask',mask)\n",
    "    if cropped:\n",
    "        bbox = cv2.boundingRect(points)\n",
    "        x,y,w,h = bbox\n",
    "        imgCrop = img[y:y+h,x:x+w]\n",
    "        imgCrop = cv2.resize(imgCrop,(0,0),None,scale,scale)\n",
    "        return imgCrop\n",
    "    else:\n",
    "        return mask\n",
    "    "
   ]
  },
  {
   "cell_type": "code",
   "execution_count": 5,
   "id": "53597b4d",
   "metadata": {},
   "outputs": [],
   "source": [
    "# Görüntüyü yükleme\n",
    "img = cv2.imread('photos/selenaGomez.jpeg')"
   ]
  },
  {
   "cell_type": "code",
   "execution_count": 6,
   "id": "533e9187",
   "metadata": {},
   "outputs": [],
   "source": [
    "img = cv2.resize(img,(0,0),None,0.5,0.5)"
   ]
  },
  {
   "cell_type": "code",
   "execution_count": 7,
   "id": "4657ceda",
   "metadata": {},
   "outputs": [],
   "source": [
    "imgOriginal = img.copy()"
   ]
  },
  {
   "cell_type": "code",
   "execution_count": 8,
   "id": "fe5bae13",
   "metadata": {},
   "outputs": [],
   "source": [
    "imgGray = cv2.cvtColor(img, cv2.COLOR_BGR2RGB)"
   ]
  },
  {
   "cell_type": "code",
   "execution_count": 9,
   "id": "2d093057",
   "metadata": {},
   "outputs": [],
   "source": [
    "faces = detector(imgGray)"
   ]
  },
  {
   "cell_type": "code",
   "execution_count": 10,
   "id": "74961205",
   "metadata": {},
   "outputs": [
    {
     "name": "stdout",
     "output_type": "stream",
     "text": [
      "[[141 425]\n",
      " [124 487]\n",
      " [116 552]\n",
      " [113 613]\n",
      " [114 677]\n",
      " [127 742]\n",
      " [154 800]\n",
      " [193 852]\n",
      " [242 884]\n",
      " [299 893]\n",
      " [362 879]\n",
      " [424 856]\n",
      " [474 822]\n",
      " [512 777]\n",
      " [540 725]\n",
      " [567 671]\n",
      " [590 612]\n",
      " [185 403]\n",
      " [236 397]\n",
      " [285 414]\n",
      " [325 441]\n",
      " [359 475]\n",
      " [443 503]\n",
      " [485 498]\n",
      " [527 502]\n",
      " [563 517]\n",
      " [585 548]\n",
      " [382 539]\n",
      " [369 576]\n",
      " [358 614]\n",
      " [346 652]\n",
      " [292 666]\n",
      " [309 680]\n",
      " [326 694]\n",
      " [348 696]\n",
      " [369 697]\n",
      " [226 489]\n",
      " [258 486]\n",
      " [292 500]\n",
      " [313 530]\n",
      " [279 525]\n",
      " [246 514]\n",
      " [432 575]\n",
      " [467 563]\n",
      " [500 574]\n",
      " [522 596]\n",
      " [494 601]\n",
      " [461 592]\n",
      " [213 718]\n",
      " [257 715]\n",
      " [294 717]\n",
      " [313 731]\n",
      " [339 732]\n",
      " [369 752]\n",
      " [394 780]\n",
      " [353 799]\n",
      " [316 801]\n",
      " [290 794]\n",
      " [268 782]\n",
      " [240 756]\n",
      " [229 726]\n",
      " [287 748]\n",
      " [307 757]\n",
      " [332 763]\n",
      " [378 778]\n",
      " [326 764]\n",
      " [301 758]\n",
      " [281 748]]\n"
     ]
    }
   ],
   "source": [
    "for face in faces:\n",
    "    x1, y1 = face.left(), face.top()\n",
    "    x2, y2 = face.right(), face.bottom()  # Yükseklik için bottom() kullanılıyor\n",
    "    #imgOriginal = cv2.rectangle(img, (x1, y1), (x2, y2), (0, 255, 0), 2)\n",
    "    landmarks = predictor(imgGray,face)\n",
    "    myPoints = []\n",
    "    for n in range(68):\n",
    "        x = landmarks.part(n).x\n",
    "        y = landmarks.part(n).y\n",
    "        myPoints.append([x,y])\n",
    "        #cv2.circle(imgOriginal,(x,y),2,(50,50,255),cv2.FILLED)\n",
    "        #cv2.putText(imgOriginal,str(n),(x,y-10),cv2.FONT_HERSHEY_COMPLEX_SMALL,0.1,(0,0,255),1)\n",
    "    \n",
    "    myPoints = np.array(myPoints)\n",
    "    #imgLeftEye = createBox(img,myPoints[36:42])\n",
    "    imgLips = createBox(img,myPoints[48:61],3,masked=True,cropped=False) \n",
    "    \n",
    "    imgColorLips = np.zeros_like(imgLips)\n",
    "    imgColorLips[:] = 0,255,0\n",
    "    imgColorLips = cv2.bitwise_and(imgLips,imgColorLips)\n",
    "    imgColorLips = cv2.GaussianBlur(imgColorLips,(7,7),10)\n",
    "    imgOriginal = cv2.cvtColor(imgOriginal,cv2.COLOR_BGR2GRAY)\n",
    "    imgOriginal = cv2.cvtColor(imgOriginal,cv2.COLOR_GRAY2BGR)                           \n",
    "    imgColorLips = cv2.addWeighted(imgOriginal,1,imgColorLips,0.4,0)\n",
    "    cv2.imshow('Colored',imgColorLips)\n",
    "    cv2.waitKey(0)\n",
    "    \n",
    "    #cv2.imshow('lips',imgLips)\n",
    "    \n",
    "    print(myPoints)"
   ]
  },
  {
   "cell_type": "code",
   "execution_count": 11,
   "id": "53aa1efb",
   "metadata": {
    "scrolled": true
   },
   "outputs": [
    {
     "data": {
      "text/plain": [
       "-1"
      ]
     },
     "execution_count": 11,
     "metadata": {},
     "output_type": "execute_result"
    }
   ],
   "source": [
    "# Görüntüyü gösterme\n",
    "cv2.imshow('Original', imgOriginal)\n",
    "cv2.waitKey(0)"
   ]
  }
 ],
 "metadata": {
  "kernelspec": {
   "display_name": "Python 3 (ipykernel)",
   "language": "python",
   "name": "python3"
  },
  "language_info": {
   "codemirror_mode": {
    "name": "ipython",
    "version": 3
   },
   "file_extension": ".py",
   "mimetype": "text/x-python",
   "name": "python",
   "nbconvert_exporter": "python",
   "pygments_lexer": "ipython3",
   "version": "3.11.5"
  }
 },
 "nbformat": 4,
 "nbformat_minor": 5
}
