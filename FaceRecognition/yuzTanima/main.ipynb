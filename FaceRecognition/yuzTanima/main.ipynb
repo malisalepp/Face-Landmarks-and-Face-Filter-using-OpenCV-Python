{
 "cells": [
  {
   "cell_type": "code",
   "execution_count": 22,
   "id": "31bbead8",
   "metadata": {},
   "outputs": [],
   "source": [
    "# Import OpenCV2 for image processing\n",
    "import cv2\n",
    "import matplotlib.pyplot as plt"
   ]
  },
  {
   "cell_type": "code",
   "execution_count": 23,
   "id": "54ecbe45",
   "metadata": {},
   "outputs": [],
   "source": [
    "# Haar Cascade sınıflandırıcısını yükleme\n",
    "face_cascade = cv2.CascadeClassifier('classifier/haarcascade_frontalface_default.xml')"
   ]
  },
  {
   "cell_type": "code",
   "execution_count": 24,
   "id": "99df9a67",
   "metadata": {},
   "outputs": [],
   "source": [
    "# Görüntüyü yükleme\n",
    "img = cv2.imread('photos/omerUmur.jpeg')"
   ]
  },
  {
   "cell_type": "code",
   "execution_count": 25,
   "id": "5bcecb53",
   "metadata": {},
   "outputs": [],
   "source": [
    "# Görüntüyü gri tonlamalı hale getirme\n",
    "gray = cv2.cvtColor(img, cv2.COLOR_BGR2GRAY)"
   ]
  },
  {
   "cell_type": "code",
   "execution_count": 26,
   "id": "4677b246",
   "metadata": {},
   "outputs": [],
   "source": [
    "# Yüzleri algılama işlemi\n",
    "faces = face_cascade.detectMultiScale(gray, 1.1, 4)"
   ]
  },
  {
   "cell_type": "code",
   "execution_count": 27,
   "id": "2de21447",
   "metadata": {},
   "outputs": [],
   "source": [
    "# Algılanan yüzleri dikdörtgen içine alma\n",
    "for (x, y, w, h) in faces:\n",
    "    cv2.rectangle(img, (x, y), (x+w, y+h), (0, 255, 0), 3)"
   ]
  },
  {
   "cell_type": "code",
   "execution_count": 29,
   "id": "8842b24c",
   "metadata": {},
   "outputs": [
    {
     "ename": "error",
     "evalue": "OpenCV(4.6.0) C:\\b\\abs_f8n1j3l9l0\\croot\\opencv-suite_1691622637237\\work\\modules\\highgui\\src\\window.cpp:1267: error: (-2:Unspecified error) The function is not implemented. Rebuild the library with Windows, GTK+ 2.x or Cocoa support. If you are on Ubuntu or Debian, install libgtk2.0-dev and pkg-config, then re-run cmake or configure script in function 'cvShowImage'\n",
     "output_type": "error",
     "traceback": [
      "\u001b[1;31m---------------------------------------------------------------------------\u001b[0m",
      "\u001b[1;31merror\u001b[0m                                     Traceback (most recent call last)",
      "Cell \u001b[1;32mIn[29], line 2\u001b[0m\n\u001b[0;32m      1\u001b[0m \u001b[38;5;66;03m# Görüntüyü gösterme\u001b[39;00m\n\u001b[1;32m----> 2\u001b[0m cv2\u001b[38;5;241m.\u001b[39mimshow(\u001b[38;5;124m'\u001b[39m\u001b[38;5;124mimg\u001b[39m\u001b[38;5;124m'\u001b[39m, img)\n\u001b[0;32m      3\u001b[0m cv2\u001b[38;5;241m.\u001b[39mwaitKey(\u001b[38;5;241m0\u001b[39m)\n\u001b[0;32m      4\u001b[0m cv2\u001b[38;5;241m.\u001b[39mdestroyAllWindows()\n",
      "\u001b[1;31merror\u001b[0m: OpenCV(4.6.0) C:\\b\\abs_f8n1j3l9l0\\croot\\opencv-suite_1691622637237\\work\\modules\\highgui\\src\\window.cpp:1267: error: (-2:Unspecified error) The function is not implemented. Rebuild the library with Windows, GTK+ 2.x or Cocoa support. If you are on Ubuntu or Debian, install libgtk2.0-dev and pkg-config, then re-run cmake or configure script in function 'cvShowImage'\n"
     ]
    }
   ],
   "source": [
    "# Görüntüyü gösterme\n",
    "cv2.imshow('img', img)\n",
    "cv2.waitKey(0)\n",
    "cv2.destroyAllWindows()"
   ]
  },
  {
   "cell_type": "code",
   "execution_count": null,
   "id": "43d06e87",
   "metadata": {},
   "outputs": [],
   "source": []
  },
  {
   "cell_type": "code",
   "execution_count": null,
   "id": "fd63f498",
   "metadata": {},
   "outputs": [],
   "source": []
  }
 ],
 "metadata": {
  "kernelspec": {
   "display_name": "Python 3 (ipykernel)",
   "language": "python",
   "name": "python3"
  },
  "language_info": {
   "codemirror_mode": {
    "name": "ipython",
    "version": 3
   },
   "file_extension": ".py",
   "mimetype": "text/x-python",
   "name": "python",
   "nbconvert_exporter": "python",
   "pygments_lexer": "ipython3",
   "version": "3.11.5"
  }
 },
 "nbformat": 4,
 "nbformat_minor": 5
}
