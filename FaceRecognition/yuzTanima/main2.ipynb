{
 "cells": [
  {
   "cell_type": "code",
   "execution_count": 7,
   "id": "4276ef17",
   "metadata": {},
   "outputs": [],
   "source": [
    "# Import OpenCV2 for image processing\n",
    "import cv2"
   ]
  },
  {
   "cell_type": "code",
   "execution_count": 8,
   "id": "c940a7d0",
   "metadata": {},
   "outputs": [],
   "source": [
    "# Haar Cascade sınıflandırıcısını yükleme\n",
    "face_cascade = cv2.CascadeClassifier('classifier/haarcascade_frontalface_default.xml')\n",
    "eye_cascade = cv2.CascadeClassifier('classifier/haarcascade_eye.xml')"
   ]
  },
  {
   "cell_type": "code",
   "execution_count": 9,
   "id": "f710d9c7",
   "metadata": {},
   "outputs": [],
   "source": [
    "# Görüntüyü yükleme\n",
    "img = cv2.imread('photos/women.jpeg')"
   ]
  },
  {
   "cell_type": "code",
   "execution_count": 10,
   "id": "f0df01d3",
   "metadata": {},
   "outputs": [],
   "source": [
    "# Görüntüyü gri tonlamalı hale getirme\n",
    "gray = cv2.cvtColor(img, cv2.COLOR_BGR2GRAY)"
   ]
  },
  {
   "cell_type": "code",
   "execution_count": 11,
   "id": "497485bb",
   "metadata": {},
   "outputs": [],
   "source": [
    "# Yüzleri algılama işlemi\n",
    "faces = face_cascade.detectMultiScale(gray, 1.1, 4)"
   ]
  },
  {
   "cell_type": "code",
   "execution_count": 12,
   "id": "2938a047",
   "metadata": {},
   "outputs": [],
   "source": [
    "# Algılanan yüzler içinde gözleri algılama işlemi\n",
    "for (x,y,w,h) in faces:\n",
    "    roi_gray = gray[y:y+h, x:x+w]\n",
    "    roi_color = img[y:y+h, x:x+w]\n",
    "    eyes = eye_cascade.detectMultiScale(roi_gray)\n",
    "    for (ex,ey,ew,eh) in eyes:\n",
    "        cv2.rectangle(roi_color, (ex,ey), (ex+ew,ey+eh), (0,255,0), 2)"
   ]
  },
  {
   "cell_type": "code",
   "execution_count": 13,
   "id": "f894a891",
   "metadata": {},
   "outputs": [],
   "source": [
    "# Görüntüyü gösterme\n",
    "cv2.imshow('img', img)\n",
    "cv2.waitKey(0)\n",
    "cv2.destroyAllWindows()"
   ]
  },
  {
   "cell_type": "code",
   "execution_count": null,
   "id": "c261abac",
   "metadata": {},
   "outputs": [],
   "source": []
  },
  {
   "cell_type": "code",
   "execution_count": null,
   "id": "67fe1139",
   "metadata": {},
   "outputs": [],
   "source": []
  },
  {
   "cell_type": "code",
   "execution_count": null,
   "id": "fc80052f",
   "metadata": {},
   "outputs": [],
   "source": []
  }
 ],
 "metadata": {
  "kernelspec": {
   "display_name": "Python 3 (ipykernel)",
   "language": "python",
   "name": "python3"
  },
  "language_info": {
   "codemirror_mode": {
    "name": "ipython",
    "version": 3
   },
   "file_extension": ".py",
   "mimetype": "text/x-python",
   "name": "python",
   "nbconvert_exporter": "python",
   "pygments_lexer": "ipython3",
   "version": "3.11.5"
  }
 },
 "nbformat": 4,
 "nbformat_minor": 5
}
